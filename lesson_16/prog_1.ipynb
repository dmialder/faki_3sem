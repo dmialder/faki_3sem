{
 "cells": [
  {
   "cell_type": "code",
   "execution_count": 1,
   "metadata": {},
   "outputs": [],
   "source": [
    "import numpy as np\n",
    "import random"
   ]
  },
  {
   "cell_type": "code",
   "execution_count": 2,
   "metadata": {},
   "outputs": [
    {
     "data": {
      "text/plain": [
       "array([12, 13, 14, 15, 16, 17, 18, 19, 20, 21, 22, 23, 24, 25, 26, 27, 28,\n",
       "       29, 30, 31, 32, 33, 34, 35, 36, 37, 38, 39, 40, 41, 42])"
      ]
     },
     "execution_count": 2,
     "metadata": {},
     "output_type": "execute_result"
    }
   ],
   "source": [
    "# 1. prints vector of numbers from 12 to 42\n",
    "vect_from_12_to_42 = np.arange(12, 43, 1)\n",
    "vect_from_12_to_42"
   ]
  },
  {
   "cell_type": "code",
   "execution_count": 3,
   "metadata": {},
   "outputs": [
    {
     "data": {
      "text/plain": [
       "array([0., 0., 0., 0., 1., 0., 0., 0., 0., 0., 0., 0.])"
      ]
     },
     "execution_count": 3,
     "metadata": {},
     "output_type": "execute_result"
    }
   ],
   "source": [
    "# 2. print vector of 12 zeros with \"1\" in 5th place\n",
    "vect_zeros_and_one = np.zeros(12)\n",
    "vect_zeros_and_one[4] = 1\n",
    "vect_zeros_and_one"
   ]
  },
  {
   "cell_type": "code",
   "execution_count": 4,
   "metadata": {},
   "outputs": [
    {
     "data": {
      "text/plain": [
       "array([[0, 1, 2],\n",
       "       [3, 4, 5],\n",
       "       [6, 7, 8]])"
      ]
     },
     "execution_count": 4,
     "metadata": {},
     "output_type": "execute_result"
    }
   ],
   "source": [
    "# 3. print 3x3 matrix from 0 to 8\n",
    "matrix_from_0_to_8 = (np.arange(0, 9, 1)).reshape(3, 3)\n",
    "matrix_from_0_to_8"
   ]
  },
  {
   "cell_type": "code",
   "execution_count": 5,
   "metadata": {},
   "outputs": [
    {
     "data": {
      "text/plain": [
       "[1, 2, 4]"
      ]
     },
     "execution_count": 5,
     "metadata": {},
     "output_type": "execute_result"
    }
   ],
   "source": [
    "# 4. finds all positive numbers from np.array([1,2,0,0,4,0])\n",
    "arr4 = np.array([1,2,0,0,4,0])\n",
    "ans4 = []\n",
    "for item in arr4:\n",
    "    if item > 0:\n",
    "        ans4.append(item)\n",
    "ans4"
   ]
  },
  {
   "cell_type": "code",
   "execution_count": 6,
   "metadata": {},
   "outputs": [
    {
     "data": {
      "text/plain": [
       "array([[32, 68],\n",
       "       [32, 66],\n",
       "       [24, 39],\n",
       "       [18, 37],\n",
       "       [ 8,  0]])"
      ]
     },
     "execution_count": 6,
     "metadata": {},
     "output_type": "execute_result"
    }
   ],
   "source": [
    "# 5. multiplies matrix 5x3 to matrix 3x2\n",
    "matrix1 = np.random.randint(0, 10, size=(5, 3))\n",
    "matrix2 = np.random.randint(0, 10, size=(3, 2))\n",
    "matrix5 = np.dot(matrix1, matrix2)\n",
    "\n",
    "matrix5"
   ]
  },
  {
   "cell_type": "code",
   "execution_count": 7,
   "metadata": {},
   "outputs": [
    {
     "data": {
      "text/plain": [
       "array([[0, 0, 0, 0, 0, 0, 0, 0, 0, 0],\n",
       "       [0, 1, 1, 1, 1, 1, 1, 1, 1, 0],\n",
       "       [0, 1, 1, 1, 1, 1, 1, 1, 1, 0],\n",
       "       [0, 1, 1, 1, 1, 1, 1, 1, 1, 0],\n",
       "       [0, 1, 1, 1, 1, 1, 1, 1, 1, 0],\n",
       "       [0, 1, 1, 1, 1, 1, 1, 1, 1, 0],\n",
       "       [0, 1, 1, 1, 1, 1, 1, 1, 1, 0],\n",
       "       [0, 1, 1, 1, 1, 1, 1, 1, 1, 0],\n",
       "       [0, 1, 1, 1, 1, 1, 1, 1, 1, 0],\n",
       "       [0, 0, 0, 0, 0, 0, 0, 0, 0, 0]], dtype=int64)"
      ]
     },
     "execution_count": 7,
     "metadata": {},
     "output_type": "execute_result"
    }
   ],
   "source": [
    "# 6. prints matrix with \"0\" on edges and \"1\" inside\n",
    "matrix_ans_6 = np.ones((10, 10), dtype=np.int64)\n",
    "matrix_ans_6[0, :] = 0\n",
    "matrix_ans_6[9, :] = 0\n",
    "matrix_ans_6[:, 0] = 0\n",
    "matrix_ans_6[:, 9] = 0\n",
    "\n",
    "matrix_ans_6\n"
   ]
  },
  {
   "cell_type": "code",
   "execution_count": 8,
   "metadata": {},
   "outputs": [
    {
     "data": {
      "text/plain": [
       "array([10, 14, 17, 41, 46, 56, 58, 79, 92, 94])"
      ]
     },
     "execution_count": 8,
     "metadata": {},
     "output_type": "execute_result"
    }
   ],
   "source": [
    "# 7. sorting random vector\n",
    "random_vector = np.random.randint(100, size=(10))\n",
    "np.sort(random_vector)"
   ]
  },
  {
   "cell_type": "code",
   "execution_count": 9,
   "metadata": {},
   "outputs": [],
   "source": [
    "# 8. equivalent of \"enumerate\" for numpy\n",
    "# np.ndenumerate"
   ]
  },
  {
   "cell_type": "code",
   "execution_count": 10,
   "metadata": {},
   "outputs": [
    {
     "name": "stdout",
     "output_type": "stream",
     "text": [
      "initial vector is \n",
      " [[0]\n",
      " [8]\n",
      " [8]\n",
      " [6]\n",
      " [7]\n",
      " [4]\n",
      " [0]\n",
      " [3]\n",
      " [8]\n",
      " [5]]\n",
      "mean of initial vector is 4.9\n",
      "vector subtracted mean is [[-4.9]\n",
      " [ 3.1]\n",
      " [ 3.1]\n",
      " [ 1.1]\n",
      " [ 2.1]\n",
      " [-0.9]\n",
      " [-4.9]\n",
      " [-1.9]\n",
      " [ 3.1]\n",
      " [ 0.1]]\n",
      "standard deviation of initial vector is 2.947880594596735\n"
     ]
    }
   ],
   "source": [
    "# 9. calculate mean and standard deviation of vector \n",
    "vect_9 = np.random.randint(0, 10, size=(10, 1))\n",
    "print(f\"initial vector is \\n {vect_9}\")\n",
    "mean_vect_9 = np.mean(vect_9)\n",
    "print(f\"mean of initial vector is {mean_vect_9}\")\n",
    "vect_mean = vect_9[:]\n",
    "vect_mean = vect_mean - mean_vect_9\n",
    "print(f\"vector subtracted mean is {vect_mean}\")\n",
    "\n",
    "std_vect = np.std(vect_9)\n",
    "print(f\"standard deviation of initial vector is {std_vect}\")"
   ]
  },
  {
   "cell_type": "code",
   "execution_count": 11,
   "metadata": {},
   "outputs": [
    {
     "data": {
      "text/plain": [
       "19"
      ]
     },
     "execution_count": 11,
     "metadata": {},
     "output_type": "execute_result"
    }
   ],
   "source": [
    "# 10. find the closest number from vector\n",
    "random_vect10 = np.random.randint(0, 100, size=15)\n",
    "n = random.randint(0, 100)\n",
    "ans10 = random_vect10[0]\n",
    "difference = abs(random_vect10[0] - n)\n",
    "\n",
    "for item in random_vect10:\n",
    "    if abs(item - n) < difference:\n",
    "        difference = abs(item - n)\n",
    "        ans10 = item\n",
    "item"
   ]
  },
  {
   "cell_type": "code",
   "execution_count": 12,
   "metadata": {},
   "outputs": [
    {
     "data": {
      "text/plain": [
       "array([90, 91, 91, 92, 96, 97, 98, 98, 99, 99])"
      ]
     },
     "execution_count": 12,
     "metadata": {},
     "output_type": "execute_result"
    }
   ],
   "source": [
    "# 11. find last N highest numbers\n",
    "n = 10\n",
    "random_vector = (np.sort(np.random.randint(100, size=(10, 10)).reshape(100)))\n",
    "\n",
    "random_vector[-n:]"
   ]
  }
 ],
 "metadata": {
  "kernelspec": {
   "display_name": "Python 3",
   "language": "python",
   "name": "python3"
  },
  "language_info": {
   "codemirror_mode": {
    "name": "ipython",
    "version": 3
   },
   "file_extension": ".py",
   "mimetype": "text/x-python",
   "name": "python",
   "nbconvert_exporter": "python",
   "pygments_lexer": "ipython3",
   "version": "3.10.9"
  },
  "orig_nbformat": 4,
  "vscode": {
   "interpreter": {
    "hash": "25e1e25c927cc0f47f29c766fefcb8afc3868ea8c810365764474c36e884e235"
   }
  }
 },
 "nbformat": 4,
 "nbformat_minor": 2
}
