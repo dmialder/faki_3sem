{
 "cells": [
  {
   "cell_type": "code",
   "execution_count": 32,
   "metadata": {},
   "outputs": [
    {
     "name": "stderr",
     "output_type": "stream",
     "text": [
      "C:\\Users\\dmial\\AppData\\Local\\Temp\\ipykernel_11776\\171047902.py:5: DeprecationWarning: Starting with ImageIO v3 the behavior of this function will switch to that of iio.v3.imread. To keep the current behavior (and make this warning dissapear) use `import imageio.v2 as imageio` or call `imageio.v2.imread` directly.\n",
      "  init_image = imag.imread(\"DTQ8pR-cat-png.png\")\n",
      "Lossy conversion from float64 to uint8. Range [0.0, 508.772]. Convert image to uint8 prior to saving to suppress this warning.\n"
     ]
    }
   ],
   "source": [
    "import numpy as np\n",
    "import imageio as imag\n",
    "import matplotlib.pyplot as plt\n",
    "\n",
    "init_image = imag.imread(\"DTQ8pR-cat-png.png\")\n",
    "weights = np.array([0.299, 0.587, 0.114, 1])\n",
    "new_image = np.dot(init_image, weights)\n",
    "imag.imwrite(\"grey_cat.png\", new_image)\n",
    "\n"
   ]
  }
 ],
 "metadata": {
  "kernelspec": {
   "display_name": "base",
   "language": "python",
   "name": "python3"
  },
  "language_info": {
   "codemirror_mode": {
    "name": "ipython",
    "version": 3
   },
   "file_extension": ".py",
   "mimetype": "text/x-python",
   "name": "python",
   "nbconvert_exporter": "python",
   "pygments_lexer": "ipython3",
   "version": "3.9.13"
  },
  "orig_nbformat": 4,
  "vscode": {
   "interpreter": {
    "hash": "2dc949febc5d163b3c6b69ebca57547e16a65f638fcb77b3c55d446a6763be85"
   }
  }
 },
 "nbformat": 4,
 "nbformat_minor": 2
}
